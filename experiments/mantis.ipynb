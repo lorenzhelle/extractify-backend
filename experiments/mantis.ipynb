{
 "cells": [
  {
   "cell_type": "code",
   "execution_count": 1,
   "metadata": {},
   "outputs": [
    {
     "name": "stdout",
     "output_type": "stream",
     "text": [
      "/Users/lorenz/Repos/extractify/backend\n"
     ]
    }
   ],
   "source": [
    "import os\n",
    "import sys\n",
    "WORKING_DIR = os.path.dirname(os.path.abspath('./'))\n",
    "print(WORKING_DIR)\n",
    "sys.path.append(WORKING_DIR)"
   ]
  },
  {
   "cell_type": "code",
   "execution_count": 2,
   "metadata": {},
   "outputs": [],
   "source": [
    "import pandas as pd\n",
    "# read dataset from json but in pandas dataframe\n",
    "\n",
    "df = pd.read_json(\"../dataset/mantis_json_dataset_with_intents/merged_dev_intents.json\",typ='frame')\n",
    "\n",
    "# transposing the dataframe\n",
    "df = df.T\n",
    "\n",
    "# filter out where has_intent_labels is not null\n",
    "# df = df[df.has_intent_labels.notnull()"
   ]
  },
  {
   "cell_type": "code",
   "execution_count": 42,
   "metadata": {},
   "outputs": [],
   "source": [
    "# Extract the first utterance and category\n",
    "new_data = {\n",
    "    \"category\": df[\"category\"],\n",
    "    \"utterance\": df[\"utterances\"].apply(lambda x: x[0][\"utterance\"] if x else None)\n",
    "}\n",
    "\n",
    "# Create a new DataFrame\n",
    "new_df = pd.DataFrame(new_data)\n",
    "\n",
    "# Drop rows where first_utterance has more than 600 characters\n",
    "new_df = new_df[new_df.utterance.str.len() <= 600]\n",
    "\n",
    "# shuffle the dataset\n",
    "new_df = new_df.sample(frac=1).reset_index(drop=True)\n",
    "\n",
    "# save to csv\n",
    "new_df.to_csv(\"../dataset/mantis_json_dataset_with_intents/utterance_category.csv\", index=False)"
   ]
  },
  {
   "cell_type": "code",
   "execution_count": 31,
   "metadata": {},
   "outputs": [],
   "source": [
    "# write 10% of the dataset to a new file\n",
    "df.sample(frac=0.1).to_json(\"../dataset/mantis_json_dataset_with_intents/merged_dev_intents_10_percent.json\", orient=\"records\")"
   ]
  },
  {
   "cell_type": "code",
   "execution_count": 3,
   "metadata": {},
   "outputs": [
    {
     "data": {
      "text/html": [
       "<div>\n",
       "<style scoped>\n",
       "    .dataframe tbody tr th:only-of-type {\n",
       "        vertical-align: middle;\n",
       "    }\n",
       "\n",
       "    .dataframe tbody tr th {\n",
       "        vertical-align: top;\n",
       "    }\n",
       "\n",
       "    .dataframe thead th {\n",
       "        text-align: right;\n",
       "    }\n",
       "</style>\n",
       "<table border=\"1\" class=\"dataframe\">\n",
       "  <thead>\n",
       "    <tr style=\"text-align: right;\">\n",
       "      <th></th>\n",
       "      <th>category</th>\n",
       "      <th>title</th>\n",
       "      <th>dialog_time</th>\n",
       "      <th>utterances</th>\n",
       "      <th>has_concatenated_utterances</th>\n",
       "      <th>has_intent_labels</th>\n",
       "    </tr>\n",
       "  </thead>\n",
       "  <tbody>\n",
       "    <tr>\n",
       "      <th>0</th>\n",
       "      <td>apple</td>\n",
       "      <td>Early 2011 Macbook Pro display crash</td>\n",
       "      <td>2016-07-03T18:13:37.733</td>\n",
       "      <td>[{'utterance': 'In the last week I started see...</td>\n",
       "      <td>1</td>\n",
       "      <td>NaN</td>\n",
       "    </tr>\n",
       "    <tr>\n",
       "      <th>1</th>\n",
       "      <td>apple</td>\n",
       "      <td>CalDAV only works for first synchronisation, a...</td>\n",
       "      <td>2016-07-04T14:09:19.393</td>\n",
       "      <td>[{'utterance': 'From the same server I can suc...</td>\n",
       "      <td>0</td>\n",
       "      <td>NaN</td>\n",
       "    </tr>\n",
       "    <tr>\n",
       "      <th>2</th>\n",
       "      <td>apple</td>\n",
       "      <td>Unable to install iOS 9.3 beta Profile</td>\n",
       "      <td>2016-07-05T16:48:58.617</td>\n",
       "      <td>[{'utterance': 'After installing iOS beta 10 a...</td>\n",
       "      <td>0</td>\n",
       "      <td>NaN</td>\n",
       "    </tr>\n",
       "    <tr>\n",
       "      <th>3</th>\n",
       "      <td>apple</td>\n",
       "      <td>Triple booting a modern Macbook (early 2015) w...</td>\n",
       "      <td>2016-07-06T14:05:28.277</td>\n",
       "      <td>[{'utterance': 'So I need to have Windows 10, ...</td>\n",
       "      <td>0</td>\n",
       "      <td>NaN</td>\n",
       "    </tr>\n",
       "    <tr>\n",
       "      <th>4</th>\n",
       "      <td>apple</td>\n",
       "      <td>Automator workflow to print 4 copies of 1 imag...</td>\n",
       "      <td>2016-07-07T08:35:43.737</td>\n",
       "      <td>[{'utterance': 'How do I get Automator to prin...</td>\n",
       "      <td>0</td>\n",
       "      <td>NaN</td>\n",
       "    </tr>\n",
       "  </tbody>\n",
       "</table>\n",
       "</div>"
      ],
      "text/plain": [
       "  category                                              title  \\\n",
       "0    apple               Early 2011 Macbook Pro display crash   \n",
       "1    apple  CalDAV only works for first synchronisation, a...   \n",
       "2    apple             Unable to install iOS 9.3 beta Profile   \n",
       "3    apple  Triple booting a modern Macbook (early 2015) w...   \n",
       "4    apple  Automator workflow to print 4 copies of 1 imag...   \n",
       "\n",
       "               dialog_time                                         utterances  \\\n",
       "0  2016-07-03T18:13:37.733  [{'utterance': 'In the last week I started see...   \n",
       "1  2016-07-04T14:09:19.393  [{'utterance': 'From the same server I can suc...   \n",
       "2  2016-07-05T16:48:58.617  [{'utterance': 'After installing iOS beta 10 a...   \n",
       "3  2016-07-06T14:05:28.277  [{'utterance': 'So I need to have Windows 10, ...   \n",
       "4  2016-07-07T08:35:43.737  [{'utterance': 'How do I get Automator to prin...   \n",
       "\n",
       "  has_concatenated_utterances has_intent_labels  \n",
       "0                           1               NaN  \n",
       "1                           0               NaN  \n",
       "2                           0               NaN  \n",
       "3                           0               NaN  \n",
       "4                           0               NaN  "
      ]
     },
     "execution_count": 3,
     "metadata": {},
     "output_type": "execute_result"
    }
   ],
   "source": [
    "df.head()"
   ]
  },
  {
   "cell_type": "code",
   "execution_count": 5,
   "metadata": {},
   "outputs": [
    {
     "data": {
      "text/plain": [
       "array(['apple', 'askubuntu', 'dba', 'diy', 'electronics', 'english',\n",
       "       'gaming', 'gis', 'physics', 'scifi', 'security', 'stats', 'travel',\n",
       "       'worldbuilding'], dtype=object)"
      ]
     },
     "execution_count": 5,
     "metadata": {},
     "output_type": "execute_result"
    }
   ],
   "source": [
    "categories = df[\"category\"].unique()\n",
    "categories"
   ]
  },
  {
   "cell_type": "code",
   "execution_count": null,
   "metadata": {},
   "outputs": [],
   "source": []
  }
 ],
 "metadata": {
  "kernelspec": {
   "display_name": "entity-linking",
   "language": "python",
   "name": "python3"
  },
  "language_info": {
   "codemirror_mode": {
    "name": "ipython",
    "version": 3
   },
   "file_extension": ".py",
   "mimetype": "text/x-python",
   "name": "python",
   "nbconvert_exporter": "python",
   "pygments_lexer": "ipython3",
   "version": "3.10.14"
  }
 },
 "nbformat": 4,
 "nbformat_minor": 2
}
