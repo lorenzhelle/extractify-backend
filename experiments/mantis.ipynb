{
 "cells": [
  {
   "cell_type": "code",
   "execution_count": 1,
   "metadata": {},
   "outputs": [
    {
     "name": "stdout",
     "output_type": "stream",
     "text": [
      "/Users/lorenz/Repos/extractify/backend\n"
     ]
    }
   ],
   "source": [
    "import os\n",
    "import sys\n",
    "WORKING_DIR = os.path.dirname(os.path.abspath('./'))\n",
    "print(WORKING_DIR)\n",
    "sys.path.append(WORKING_DIR)"
   ]
  },
  {
   "cell_type": "code",
   "execution_count": 27,
   "metadata": {},
   "outputs": [],
   "source": [
    "import pandas as pd\n",
    "# read dataset from json but in pandas dataframe\n",
    "\n",
    "df = pd.read_json(\"../dataset/mantis_json_dataset_with_intents/merged_dev_intents.json\",typ='frame')\n",
    "\n",
    "# transposing the dataframe\n",
    "df = df.T\n",
    "\n",
    "# filter out where has_intent_labels is not null\n",
    "# df = df[df.has_intent_labels.notnull()"
   ]
  },
  {
   "cell_type": "code",
   "execution_count": 42,
   "metadata": {},
   "outputs": [],
   "source": [
    "# Extract the first utterance and category\n",
    "new_data = {\n",
    "    \"category\": df[\"category\"],\n",
    "    \"utterance\": df[\"utterances\"].apply(lambda x: x[0][\"utterance\"] if x else None)\n",
    "}\n",
    "\n",
    "# Create a new DataFrame\n",
    "new_df = pd.DataFrame(new_data)\n",
    "\n",
    "# Drop rows where first_utterance has more than 600 characters\n",
    "new_df = new_df[new_df.utterance.str.len() <= 600]\n",
    "\n",
    "# shuffle the dataset\n",
    "new_df = new_df.sample(frac=1).reset_index(drop=True)\n",
    "\n",
    "# save to csv\n",
    "new_df.to_csv(\"../dataset/mantis_json_dataset_with_intents/utterance_category.csv\", index=False)"
   ]
  },
  {
   "cell_type": "code",
   "execution_count": 31,
   "metadata": {},
   "outputs": [],
   "source": [
    "# write 10% of the dataset to a new file\n",
    "df.sample(frac=0.1).to_json(\"../dataset/mantis_json_dataset_with_intents/merged_dev_intents_10_percent.json\", orient=\"records\")"
   ]
  },
  {
   "cell_type": "code",
   "execution_count": null,
   "metadata": {},
   "outputs": [],
   "source": []
  }
 ],
 "metadata": {
  "kernelspec": {
   "display_name": "entity-linking",
   "language": "python",
   "name": "python3"
  },
  "language_info": {
   "codemirror_mode": {
    "name": "ipython",
    "version": 3
   },
   "file_extension": ".py",
   "mimetype": "text/x-python",
   "name": "python",
   "nbconvert_exporter": "python",
   "pygments_lexer": "ipython3",
   "version": "3.10.14"
  }
 },
 "nbformat": 4,
 "nbformat_minor": 2
}
